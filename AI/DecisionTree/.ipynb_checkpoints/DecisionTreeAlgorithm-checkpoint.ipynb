{
 "cells": [
  {
   "cell_type": "markdown",
   "id": "3d159545",
   "metadata": {},
   "source": [
    "# AI/ML Lab\n",
    "\n",
    "## Assignment 4\n",
    "\n",
    "## 2019BTECS00058 Devang K\n",
    "\n",
    "## Batch: T7"
   ]
  },
  {
   "cell_type": "markdown",
   "id": "17ed519e",
   "metadata": {},
   "source": [
    "### Design and Implementation of Decision Tree Algorithm for classification problem."
   ]
  },
  {
   "cell_type": "markdown",
   "id": "abae9819",
   "metadata": {},
   "source": [
    "We shall implement Decision Tree Classifier using the Scikit for the dataset of Tripadvisor reviews over 10 categories. We shall train the model by providing data of 7 categories and predicting the final 3. The accuracy shall then be obtained."
   ]
  },
  {
   "cell_type": "code",
   "execution_count": 1,
   "id": "761d80ba",
   "metadata": {},
   "outputs": [],
   "source": [
    "import graphviz\n",
    "import csv\n",
    "from sklearn import tree"
   ]
  },
  {
   "cell_type": "markdown",
   "id": "828032b5",
   "metadata": {},
   "source": [
    "We import the dataset"
   ]
  },
  {
   "cell_type": "code",
   "execution_count": 11,
   "id": "2ba26e0a",
   "metadata": {},
   "outputs": [],
   "source": [
    "listOfData = []\n",
    "with open('tripadvisor_review.csv', newline='') as csvfile:\n",
    "    spamreader = csv.reader(csvfile, delimiter=',', quotechar='|')\n",
    "    for row in spamreader:\n",
    "        newRow = []\n",
    "        for r in row:\n",
    "            try:\n",
    "                newRow.append(float(r))\n",
    "            except:\n",
    "                newRow.append(r)\n",
    "        listOfData.append(newRow[1:])\n",
    "    listOfData = listOfData[1:]"
   ]
  },
  {
   "cell_type": "markdown",
   "id": "4f700441",
   "metadata": {},
   "source": []
  }
 ],
 "metadata": {
  "kernelspec": {
   "display_name": "Python 3 (ipykernel)",
   "language": "python",
   "name": "python3"
  },
  "language_info": {
   "codemirror_mode": {
    "name": "ipython",
    "version": 3
   },
   "file_extension": ".py",
   "mimetype": "text/x-python",
   "name": "python",
   "nbconvert_exporter": "python",
   "pygments_lexer": "ipython3",
   "version": "3.9.7"
  }
 },
 "nbformat": 4,
 "nbformat_minor": 5
}
