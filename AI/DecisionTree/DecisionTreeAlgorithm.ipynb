{
 "cells": [
  {
   "cell_type": "markdown",
   "id": "3d159545",
   "metadata": {},
   "source": [
    "# AI/ML Lab\n",
    "\n",
    "## Assignment 5\n",
    "\n",
    "## 2019BTECS00058 Devang K\n",
    "\n",
    "## Batch: T7"
   ]
  },
  {
   "cell_type": "markdown",
   "id": "6ab4d76f",
   "metadata": {},
   "source": [
    "### Design and Implementation of Decision Tree Algorithm for classification problem."
   ]
  },
  {
   "cell_type": "markdown",
   "id": "45f5acbd",
   "metadata": {},
   "source": [
    "We shall implement Decision Tree Classifier using the Scikit for the dataset of Tripadvisor reviews over 10 categories. We shall train the model by providing data of 7 categories and predicting the final 3. The accuracy shall then be obtained."
   ]
  },
  {
   "cell_type": "code",
   "execution_count": 12,
   "id": "3f7c6e08",
   "metadata": {},
   "outputs": [],
   "source": [
    "import graphviz\n",
    "import csv\n",
    "from sklearn import tree\n",
    "import numpy\n",
    "from sklearn import preprocessing\n",
    "from sklearn.metrics import mean_squared_error\n",
    "\n",
    "lab_enc = preprocessing.LabelEncoder()"
   ]
  },
  {
   "cell_type": "markdown",
   "id": "8a9e0288",
   "metadata": {},
   "source": [
    "We import the dataset"
   ]
  },
  {
   "cell_type": "code",
   "execution_count": 2,
   "id": "069ee5d5",
   "metadata": {},
   "outputs": [],
   "source": [
    "listOfData = []\n",
    "with open('tripadvisor_review.csv', newline='') as csvfile:\n",
    "    spamreader = csv.reader(csvfile, delimiter=',', quotechar='|')\n",
    "    for row in spamreader:\n",
    "        newRow = []\n",
    "        for r in row:\n",
    "            try:\n",
    "                newRow.append(float(r))\n",
    "            except:\n",
    "                newRow.append(r)\n",
    "        listOfData.append(newRow[1:])\n",
    "    listOfData = listOfData[1:]"
   ]
  },
  {
   "cell_type": "markdown",
   "id": "07e367ce",
   "metadata": {},
   "source": [
    "We shall have 900 of the rows for training and 10 for predictions and calculating the run-off."
   ]
  },
  {
   "cell_type": "code",
   "execution_count": 3,
   "id": "bbbbbefb",
   "metadata": {},
   "outputs": [],
   "source": [
    "X = []\n",
    "Y = []\n",
    "for i in range(900):\n",
    "    X.append(numpy.array(([i]+listOfData[i])[:7]))\n",
    "    Y.append(numpy.array(([i]+listOfData[i])[7:]))\n",
    "X = numpy.array(X)\n",
    "Y = numpy.array(Y)"
   ]
  },
  {
   "cell_type": "code",
   "execution_count": 4,
   "id": "efb1e44a",
   "metadata": {},
   "outputs": [],
   "source": [
    "predictX = []\n",
    "predictY = []\n",
    "for i in range(901, 911):\n",
    "    predictX.append(numpy.array(([i]+listOfData[i])[:7]))\n",
    "    predictY.append(numpy.array(([i]+listOfData[i])[7:]))\n",
    "predictX = numpy.array(predictX)\n",
    "predictY = numpy.array(predictY)"
   ]
  },
  {
   "cell_type": "markdown",
   "id": "86fb284f",
   "metadata": {},
   "source": [
    "We now train the models:"
   ]
  },
  {
   "cell_type": "code",
   "execution_count": 7,
   "id": "5743c8b1",
   "metadata": {},
   "outputs": [],
   "source": [
    "clf = tree.DecisionTreeRegressor()\n",
    "clf = clf.fit(X, Y)"
   ]
  },
  {
   "cell_type": "markdown",
   "id": "099ff3f7",
   "metadata": {},
   "source": [
    "Let's check the predictions."
   ]
  },
  {
   "cell_type": "code",
   "execution_count": 10,
   "id": "a3e03e82",
   "metadata": {},
   "outputs": [
    {
     "name": "stdout",
     "output_type": "stream",
     "text": [
      "[[3.19 2.79 1.79 2.82]\n",
      " [3.18 2.77 1.98 2.62]\n",
      " [3.18 2.74 0.96 2.46]\n",
      " [3.18 2.82 1.47 3.06]\n",
      " [3.18 2.78 1.38 3.02]\n",
      " [3.18 2.74 1.54 2.56]\n",
      " [3.2  2.95 1.25 2.32]\n",
      " [3.18 3.22 1.47 2.82]\n",
      " [3.18 2.82 1.47 3.06]\n",
      " [3.18 3.29 2.18 2.9 ]]\n"
     ]
    }
   ],
   "source": [
    "predictedResult = clf.predict(predictX)\n",
    "print(predictedResult)"
   ]
  },
  {
   "cell_type": "markdown",
   "id": "7e906ce3",
   "metadata": {},
   "source": [
    "Let's calculate the error from the true and the predicted result."
   ]
  },
  {
   "cell_type": "code",
   "execution_count": 18,
   "id": "7b40f365",
   "metadata": {},
   "outputs": [
    {
     "name": "stdout",
     "output_type": "stream",
     "text": [
      "Error is: 0.2074355807309574\n"
     ]
    }
   ],
   "source": [
    "print(\"Error is:\", mean_squared_error(predictY, predictedResult, squared=False))"
   ]
  },
  {
   "cell_type": "markdown",
   "id": "3dfae89e",
   "metadata": {},
   "source": [
    "Thus, we implemented the Decision Tree Classification for predicting the results with high accuracy. We made use of the Tripadvisor reviews dataset and made use of sci-kit learn library."
   ]
  }
 ],
 "metadata": {
  "kernelspec": {
   "display_name": "Python 3 (ipykernel)",
   "language": "python",
   "name": "python3"
  },
  "language_info": {
   "codemirror_mode": {
    "name": "ipython",
    "version": 3
   },
   "file_extension": ".py",
   "mimetype": "text/x-python",
   "name": "python",
   "nbconvert_exporter": "python",
   "pygments_lexer": "ipython3",
   "version": "3.9.7"
  }
 },
 "nbformat": 4,
 "nbformat_minor": 5
}
