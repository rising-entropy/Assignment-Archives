{
 "cells": [
  {
   "cell_type": "markdown",
   "id": "8df87aaa-c080-4cf3-8d9d-697a5c94e140",
   "metadata": {},
   "source": [
    "## AI/ML Lab\n",
    "### Assignment 2\n",
    "### 2019BTECS00058 Devang K\n",
    "### Batch T7"
   ]
  },
  {
   "cell_type": "markdown",
   "id": "f8ee4cb7-19d3-4802-a42a-f160d7bd5650",
   "metadata": {},
   "source": [
    "#### Solve the Traveling Salesman Problem using Branch And Bound method"
   ]
  },
  {
   "cell_type": "markdown",
   "id": "7bf65529-3d86-4552-a7db-808519ef9901",
   "metadata": {},
   "source": [
    "Initiate libraries and constants."
   ]
  },
  {
   "cell_type": "code",
   "execution_count": 17,
   "id": "9a31600e-2462-40d4-91dc-5980a728d3d9",
   "metadata": {},
   "outputs": [],
   "source": [
    "import math\n",
    "maxi = float('inf')\n",
    "mini = float('-inf')"
   ]
  },
  {
   "cell_type": "markdown",
   "id": "7880d302-8aac-4b86-a765-87958c5cd381",
   "metadata": {},
   "source": [
    "Initialising the Matrix relation."
   ]
  },
  {
   "cell_type": "code",
   "execution_count": 18,
   "id": "daa5eaa4-48b0-4ec6-b8bb-df63f19df8ad",
   "metadata": {},
   "outputs": [],
   "source": [
    "adj = [[0, 10, 15, 3],\n",
    "       [8, 0, 9, 7],\n",
    "       [1, 6, 0, 9],\n",
    "       [2, 3, 8, 0]]\n",
    "N = 4"
   ]
  },
  {
   "cell_type": "markdown",
   "id": "d1925ea9-4016-450f-a594-a2dc8c588432",
   "metadata": {},
   "source": [
    "Getting the minimum edge cost at the end of vertex."
   ]
  },
  {
   "cell_type": "code",
   "execution_count": 19,
   "id": "ef5cbb72-843b-4a34-a9ab-ba29d0038516",
   "metadata": {},
   "outputs": [],
   "source": [
    "def firstMin(adj, i):\n",
    "    min = maxi\n",
    "    for k in range(N):\n",
    "        if adj[i][k] < min and i != k:\n",
    "            min = adj[i][k]\n",
    "    return min"
   ]
  },
  {
   "cell_type": "markdown",
   "id": "6fb314c9-e85f-44fa-a331-b9927df1a2d1",
   "metadata": {},
   "source": [
    "Getting the 2nd minimum edge at the end of the vertex."
   ]
  },
  {
   "cell_type": "code",
   "execution_count": 20,
   "id": "c0f774eb-2d22-4b36-8c58-2c6d4281c1ee",
   "metadata": {},
   "outputs": [],
   "source": [
    "def secondMin(adj, i):\n",
    "    first, second = maxi, maxi\n",
    "    for j in range(N):\n",
    "        if i == j:\n",
    "            continue\n",
    "        if adj[i][j] <= first:\n",
    "            second = first\n",
    "            first = adj[i][j]\n",
    "  \n",
    "        elif(adj[i][j] <= second and \n",
    "             adj[i][j] != first):\n",
    "            second = adj[i][j]\n",
    "  \n",
    "    return second"
   ]
  },
  {
   "cell_type": "markdown",
   "id": "3c387a59-e5c6-48b8-8bf8-8c4b80c51281",
   "metadata": {},
   "source": [
    "Recursive Function that keeps getting the best route element by element with the base case being when all elements have been traversed."
   ]
  },
  {
   "cell_type": "code",
   "execution_count": 21,
   "id": "1994b4e0-52e3-4c33-90ed-280053a3ff0f",
   "metadata": {},
   "outputs": [],
   "source": [
    "def TSPRec(adj, curr_bound, curr_weight, \n",
    "              level, curr_path, visited):\n",
    "    global final_res\n",
    "      \n",
    "    # base case\n",
    "    if level == N:\n",
    "          \n",
    "        # check if there is an edge from the last vertex in path back to the first vertex\n",
    "        if adj[curr_path[level - 1]][curr_path[0]] != 0:\n",
    "              \n",
    "            # curr_res has the total weight of the solution we got\n",
    "            curr_res = curr_weight + adj[curr_path[level - 1]]\\\n",
    "                                        [curr_path[0]]\n",
    "            if curr_res < final_res:\n",
    "                copyToFinal(curr_path)\n",
    "                final_res = curr_res\n",
    "        return\n",
    "  \n",
    "    for i in range(N):\n",
    "          \n",
    "        # Getting a vertex that has not been visited\n",
    "        if (adj[curr_path[level-1]][i] != 0 and\n",
    "                            visited[i] == False):\n",
    "            temp = curr_bound\n",
    "            curr_weight += adj[curr_path[level - 1]][i]\n",
    "  \n",
    "            if level == 1:\n",
    "                curr_bound -= ((firstMin(adj, curr_path[level - 1]) + \n",
    "                                firstMin(adj, i)) / 2)\n",
    "            else:\n",
    "                curr_bound -= ((secondMin(adj, curr_path[level - 1]) +\n",
    "                                 firstMin(adj, i)) / 2)\n",
    "  \n",
    "            # curr_bound + curr_weight is the actual lower bound for the node. If current lower bound < final_res, we need to explore the node further\n",
    "            if curr_bound + curr_weight < final_res:\n",
    "                curr_path[level] = i\n",
    "                visited[i] = True\n",
    "                  \n",
    "                # continue with recursion\n",
    "                TSPRec(adj, curr_bound, curr_weight, \n",
    "                       level + 1, curr_path, visited)\n",
    "  \n",
    "            # Else we reset our matrix\n",
    "            curr_weight -= adj[curr_path[level - 1]][i]\n",
    "            curr_bound = temp\n",
    "  \n",
    "            # Also reset the visited array\n",
    "            visited = [False] * len(visited)\n",
    "            for j in range(level):\n",
    "                if curr_path[j] != -1:\n",
    "                    visited[curr_path[j]] = True"
   ]
  },
  {
   "cell_type": "markdown",
   "id": "00d9900b-7e79-4a18-9653-63fbd82e39f4",
   "metadata": {},
   "source": [
    "Setting up the code for recursion and the final path to be determined.\n"
   ]
  },
  {
   "cell_type": "code",
   "execution_count": 22,
   "id": "c5428eb5-1c1d-4494-a768-1f796ca0702b",
   "metadata": {},
   "outputs": [],
   "source": [
    "def TSP(adj):\n",
    "      \n",
    "    # Calculate initial lower bound for the root node \n",
    "    # formula 1/2 * (sum of first min + second min) for all edges\n",
    "    c_bound = 0\n",
    "    \n",
    "    ## Initiate curr_path and visited array\n",
    "    curr_path = [-1] * (N + 1)\n",
    "    visited = [False] * N\n",
    "  \n",
    "    # Compute initial bound for vertex 0\n",
    "    for i in range(N):\n",
    "        c_bound += (firstMin(adj, i) + \n",
    "                       secondMin(adj, i))\n",
    "  \n",
    "    # Rounding off the lower bound to an integer\n",
    "    c_bound = math.ceil(c_bound / 2)\n",
    "  \n",
    "    # We start at vertex 1 so the first vertex in curr_path[] is 0\n",
    "    visited[0] = True\n",
    "    curr_path[0] = 0\n",
    "  \n",
    "    # Call to TSPRec for curr_weight equal to 0 and level 1\n",
    "    TSPRec(adj, c_bound, 0, 1, curr_path, visited)"
   ]
  },
  {
   "cell_type": "markdown",
   "id": "edc2a8da-6017-464c-ac35-cf70bde2775c",
   "metadata": {},
   "source": [
    "Making the temporary solution as the final solution."
   ]
  },
  {
   "cell_type": "code",
   "execution_count": 23,
   "id": "473af69b-3110-4c83-b27e-315cbe5626f7",
   "metadata": {},
   "outputs": [],
   "source": [
    "def copyToFinal(curr_path):\n",
    "    final_path[:N + 1] = curr_path[:]\n",
    "    final_path[N] = curr_path[0]"
   ]
  },
  {
   "cell_type": "markdown",
   "id": "29e914b7-6e08-4454-a0d4-acc92ae50389",
   "metadata": {},
   "source": [
    "Initialising the final path and the list of routes and already visited vertices."
   ]
  },
  {
   "cell_type": "code",
   "execution_count": 24,
   "id": "99e92e7b-f518-4809-b53c-1ddab29e4326",
   "metadata": {},
   "outputs": [],
   "source": [
    "final_path = [None] * (N + 1)\n",
    "visited = [False] * N"
   ]
  },
  {
   "cell_type": "markdown",
   "id": "17739f38-df21-4c1f-8cf8-556155e64ef3",
   "metadata": {},
   "source": [
    "Initialise minimum Weight of the shortest tour."
   ]
  },
  {
   "cell_type": "code",
   "execution_count": 25,
   "id": "5cfcea2c-9d9d-41f3-bd0c-b000e28831ff",
   "metadata": {},
   "outputs": [],
   "source": [
    "final_res = maxi"
   ]
  },
  {
   "cell_type": "markdown",
   "id": "b7ac4e0d-467b-4ec7-a28e-5db954154a9c",
   "metadata": {},
   "source": [
    "Running the main program for TSP of given adjacent matrix."
   ]
  },
  {
   "cell_type": "code",
   "execution_count": 26,
   "id": "c7d7df73-4b6a-4695-a164-83aeed8fef95",
   "metadata": {},
   "outputs": [],
   "source": [
    "TSP(adj)"
   ]
  },
  {
   "cell_type": "markdown",
   "id": "8b4c1cc0-d96b-4d19-800c-630f969fb60a",
   "metadata": {},
   "source": [
    "Getting the final path of salesperson, after setting up that our vertices start with 1 in the question figure:"
   ]
  },
  {
   "cell_type": "code",
   "execution_count": 27,
   "id": "90410896-633b-4eef-97b4-8daecd89c09f",
   "metadata": {},
   "outputs": [
    {
     "name": "stdout",
     "output_type": "stream",
     "text": [
      "[1, 4, 2, 3, 1]\n"
     ]
    }
   ],
   "source": [
    "for f in range(len(final_path)):\n",
    "    final_path[f] += 1\n",
    "print(final_path)"
   ]
  }
 ],
 "metadata": {
  "kernelspec": {
   "display_name": "Python 3",
   "language": "python",
   "name": "python3"
  },
  "language_info": {
   "codemirror_mode": {
    "name": "ipython",
    "version": 3
   },
   "file_extension": ".py",
   "mimetype": "text/x-python",
   "name": "python",
   "nbconvert_exporter": "python",
   "pygments_lexer": "ipython3",
   "version": "3.7.8"
  }
 },
 "nbformat": 4,
 "nbformat_minor": 5
}
