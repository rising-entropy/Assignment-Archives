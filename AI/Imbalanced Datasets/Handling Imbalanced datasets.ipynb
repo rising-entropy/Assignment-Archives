{
 "cells": [
  {
   "cell_type": "markdown",
   "id": "803b91e4",
   "metadata": {},
   "source": [
    "# AI/ML Lab\n",
    "\n",
    "## Assignment 6\n",
    "\n",
    "## 2019BTECS00058 Devang K\n",
    "\n",
    "## Batch: T7"
   ]
  },
  {
   "cell_type": "markdown",
   "id": "cbaec701",
   "metadata": {},
   "source": [
    "### Handle the Imbalanced datasets using machine learning techniques\n",
    "\n",
    "###### Use any imbalanced dataset as input and handle that data using classification"
   ]
  },
  {
   "cell_type": "markdown",
   "id": "5348dc78",
   "metadata": {},
   "source": [
    "We shall make use of the 'Amazon Commerce reviews set' data-set from the UCI repository."
   ]
  },
  {
   "cell_type": "markdown",
   "id": "f4d3f1b6",
   "metadata": {},
   "source": [
    "Let's import the required modules:"
   ]
  },
  {
   "cell_type": "code",
   "execution_count": 3,
   "id": "4e4e15a6",
   "metadata": {},
   "outputs": [],
   "source": [
    "from collections import Counter\n",
    "from imblearn.under_sampling import RandomUnderSampler\n",
    "from imblearn.over_sampling import SMOTE\n",
    "from sklearn.model_selection import train_test_split\n",
    "import pandas as pd\n",
    "import numpy as np\n",
    "import warnings\n",
    "warnings.simplefilter(action='ignore', category=FutureWarning)"
   ]
  },
  {
   "cell_type": "markdown",
   "id": "ba02fe1d",
   "metadata": {},
   "source": [
    "Import the data. And seperate the dependent and independent variables."
   ]
  },
  {
   "cell_type": "code",
   "execution_count": 4,
   "id": "8a04a328",
   "metadata": {},
   "outputs": [],
   "source": [
    "url = \"https://raw.githubusercontent.com/jackty9/Handling_Imbalanced_Data_in_Python/master/bank-full-encoded.csv\"\n",
    "df = pd.read_csv(url)\n",
    "X = df.iloc[:,:-1]\n",
    "y = df.iloc[:,-1]"
   ]
  },
  {
   "cell_type": "code",
   "execution_count": null,
   "id": "f9bf29d3",
   "metadata": {},
   "outputs": [],
   "source": []
  }
 ],
 "metadata": {
  "kernelspec": {
   "display_name": "Python 3 (ipykernel)",
   "language": "python",
   "name": "python3"
  },
  "language_info": {
   "codemirror_mode": {
    "name": "ipython",
    "version": 3
   },
   "file_extension": ".py",
   "mimetype": "text/x-python",
   "name": "python",
   "nbconvert_exporter": "python",
   "pygments_lexer": "ipython3",
   "version": "3.9.7"
  }
 },
 "nbformat": 4,
 "nbformat_minor": 5
}
