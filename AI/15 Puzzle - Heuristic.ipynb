{
 "cells": [
  {
   "cell_type": "markdown",
   "source": [
    "# AI/ML Lab\n",
    "\n",
    "## Assignment 1\n",
    "\n",
    "## 2019BTECS00058 Devang K\n",
    "\n",
    "## Batch: T7"
   ],
   "metadata": {}
  },
  {
   "cell_type": "markdown",
   "source": [
    "### Solve the 15 puzzle game problem using heuristic search algorithm "
   ],
   "metadata": {}
  },
  {
   "cell_type": "markdown",
   "source": [
    "#### Goal State:\n",
    "\n",
    "<table>\n",
    "<tr>\n",
    "    <td>1</td><td>2</td><td>3</td><td>4</td>\n",
    "</tr>\n",
    "<tr>\n",
    "    <td>5</td><td>6</td><td>7</td><td>8</td>\n",
    "</tr>\n",
    "<tr>\n",
    "    <td>9</td><td>10</td><td>11</td><td>12</td>\n",
    "</tr>\n",
    "<tr>\n",
    "    <td>13</td><td>14</td><td>15</td><td>*</td>\n",
    "</tr>\n",
    "</table>\n",
    "\n",
    "\n",
    "#### Initial State:\n",
    "\n",
    "<table>\n",
    "<tr>\n",
    "    <td>1</td><td>2</td><td>3</td><td>4</td>\n",
    "</tr>\n",
    "<tr>\n",
    "    <td>5</td><td>6</td><td>*</td><td>8</td>\n",
    "</tr>\n",
    "<tr>\n",
    "    <td>9</td><td>10</td><td>7</td><td>11</td>\n",
    "</tr>\n",
    "<tr>\n",
    "    <td>13</td><td>14</td><td>15</td><td>12</td>\n",
    "</tr>\n",
    "</table>"
   ],
   "metadata": {}
  },
  {
   "cell_type": "markdown",
   "source": [
    "### Find the goal state from the above initial state"
   ],
   "metadata": {}
  },
  {
   "cell_type": "markdown",
   "source": [
    "Importing the deepcopy function for passing by value."
   ],
   "metadata": {}
  },
  {
   "cell_type": "code",
   "execution_count": 1,
   "source": [
    "from copy import deepcopy"
   ],
   "outputs": [],
   "metadata": {}
  },
  {
   "cell_type": "markdown",
   "source": [
    "Initialize the Final State"
   ],
   "metadata": {}
  },
  {
   "cell_type": "code",
   "execution_count": 2,
   "source": [
    "finalState = [\n",
    "  [1, 2, 3, 4],\n",
    "  [5, 6, 7, 8],\n",
    "  [9, 10, 11, 12],\n",
    "  [13, 14, 15, None]\n",
    "]"
   ],
   "outputs": [],
   "metadata": {}
  },
  {
   "cell_type": "markdown",
   "source": [
    "Function to calculate the h - heuristic value of the matrix, how far off from the goal state are they?"
   ],
   "metadata": {}
  },
  {
   "cell_type": "code",
   "execution_count": 3,
   "source": [
    "def calculateHeuristic(matrix):\n",
    "  h = 0\n",
    "  for i in range(len(finalState)):\n",
    "    for j in range(len(finalState[i])):\n",
    "      if matrix[i][j] != finalState[i][j]:\n",
    "        h += 1 \n",
    "  return h"
   ],
   "outputs": [],
   "metadata": {}
  },
  {
   "cell_type": "markdown",
   "source": [
    "Function that gets all possible options (right, left, up or down) of matrices possible."
   ],
   "metadata": {}
  },
  {
   "cell_type": "code",
   "execution_count": 4,
   "source": [
    "def possibleOptions(matrix):\n",
    "  lst = []\n",
    "  for i in range(len(finalState)):\n",
    "    for j in range(len(finalState[i])):\n",
    "      if matrix[i][j] == None:\n",
    "        # Up\n",
    "        if i-1 > -1:\n",
    "          lst.append(\"UP\")\n",
    "          \n",
    "        # Down\n",
    "        if i+1 < len(finalState):\n",
    "          lst.append(\"DOWN\") \n",
    "        \n",
    "        # Left\n",
    "        if j-1 > -1:\n",
    "          lst.append(\"LEFT\")\n",
    "        \n",
    "        # Right\n",
    "        if j+1 < len(finalState[0]):\n",
    "          lst.append(\"RIGHT\")\n",
    "  return lst"
   ],
   "outputs": [],
   "metadata": {}
  },
  {
   "cell_type": "markdown",
   "source": [
    "Functions that return the Up, Down, Left, Right iterations of the matrix with respect to the the blank space."
   ],
   "metadata": {}
  },
  {
   "cell_type": "code",
   "execution_count": 5,
   "source": [
    "def matrixUP(matrix):\n",
    "  bufferMatrix = matrix.copy()\n",
    "  for i in range(len(finalState)):\n",
    "    for j in range(len(finalState[i])):\n",
    "      if bufferMatrix[i][j] == None:\n",
    "        temp = bufferMatrix[i-1][j]\n",
    "        bufferMatrix[i-1][j] = None\n",
    "        bufferMatrix[i][j] = temp\n",
    "        return bufferMatrix"
   ],
   "outputs": [],
   "metadata": {}
  },
  {
   "cell_type": "code",
   "execution_count": 6,
   "source": [
    "def matrixDOWN(matrix):\n",
    "  bufferMatrix = matrix.copy()\n",
    "  for i in range(len(finalState)):\n",
    "    for j in range(len(finalState[i])):\n",
    "      if bufferMatrix[i][j] == None:\n",
    "        temp = bufferMatrix[i+1][j]\n",
    "        bufferMatrix[i+1][j] = None\n",
    "        bufferMatrix[i][j] = temp\n",
    "        return bufferMatrix"
   ],
   "outputs": [],
   "metadata": {}
  },
  {
   "cell_type": "code",
   "execution_count": 7,
   "source": [
    "def matrixLEFT(matrix):\n",
    "  bufferMatrix = matrix.copy()\n",
    "  for i in range(len(finalState)):\n",
    "    for j in range(len(finalState[i])):\n",
    "      if bufferMatrix[i][j] == None:\n",
    "        temp = bufferMatrix[i][j-1]\n",
    "        bufferMatrix[i][j-1] = None\n",
    "        bufferMatrix[i][j] = temp\n",
    "        return bufferMatrix"
   ],
   "outputs": [],
   "metadata": {}
  },
  {
   "cell_type": "code",
   "execution_count": 8,
   "source": [
    "def matrixRIGHT(matrix):\n",
    "  bufferMatrix = matrix\n",
    "  for i in range(len(finalState)):\n",
    "    for j in range(len(finalState[i])):\n",
    "      if bufferMatrix[i][j] == None:\n",
    "        temp = bufferMatrix[i][j+1]\n",
    "        bufferMatrix[i][j+1] = None\n",
    "        bufferMatrix[i][j] = temp\n",
    "        return bufferMatrix"
   ],
   "outputs": [],
   "metadata": {}
  },
  {
   "cell_type": "markdown",
   "source": [
    "Function to get a list of all valid matrix moves. The direction of swap and the matrix."
   ],
   "metadata": {}
  },
  {
   "cell_type": "code",
   "execution_count": 9,
   "source": [
    "def getAllOptionStates(matrix, typeList):\n",
    "  optionMatrices = []\n",
    "  \n",
    "  # UP\n",
    "  if \"UP\" in typeList:\n",
    "    optionMatrices.append([\"UP\", matrixUP(deepcopy(matrix))])\n",
    "  \n",
    "  #DOWN\n",
    "  if \"DOWN\" in typeList:\n",
    "    optionMatrices.append([\"DOWN\", matrixDOWN(deepcopy(matrix))])\n",
    "  \n",
    "  #LEFT\n",
    "  if \"LEFT\" in typeList:\n",
    "    optionMatrices.append([\"LEFT\", matrixLEFT(deepcopy(matrix))])\n",
    "  \n",
    "  #RIGHT\n",
    "  if \"RIGHT\" in typeList:\n",
    "    optionMatrices.append([\"RIGHT\", matrixRIGHT(deepcopy(matrix))])\n",
    "\n",
    "  return optionMatrices"
   ],
   "outputs": [],
   "metadata": {}
  },
  {
   "cell_type": "markdown",
   "source": [
    "Function to get the matrix of minimum heuristic"
   ],
   "metadata": {}
  },
  {
   "cell_type": "code",
   "execution_count": 10,
   "source": [
    "def matrixOfMinimalHeuristic(listOfMatrices):\n",
    "  theHeuristics = []\n",
    "  for mat in listOfMatrices:\n",
    "    theHeuristics.append(calculateHeuristic(mat[1]))\n",
    "  minimumHeu = min(theHeuristics)\n",
    "  for i in range(len(theHeuristics)):\n",
    "    if theHeuristics[i] == minimumHeu:\n",
    "      return listOfMatrices[i]"
   ],
   "outputs": [],
   "metadata": {}
  },
  {
   "cell_type": "markdown",
   "source": [
    "The initial state."
   ],
   "metadata": {}
  },
  {
   "cell_type": "code",
   "execution_count": 13,
   "source": [
    "problem = [\n",
    "  [1, 2, 3, 4],\n",
    "  [5, 6, None, 8],\n",
    "  [9, 10, 7, 11],\n",
    "  [13, 14, 15, 12]\n",
    "]"
   ],
   "outputs": [],
   "metadata": {}
  },
  {
   "cell_type": "markdown",
   "source": [
    "Recursive function to get the steps to solve the 15 puzzle from initial state to goal state."
   ],
   "metadata": {}
  },
  {
   "cell_type": "code",
   "execution_count": 14,
   "source": [
    "def stepsToReachFinalState(problem, stepsToCompletion):\n",
    "  \n",
    "  # Base Case\n",
    "  if calculateHeuristic(problem) == 0:\n",
    "    a = deepcopy(stepsToCompletion)\n",
    "    print(\"Steps to Completion:\")\n",
    "    for i in a:\n",
    "      print(i, end=' ')\n",
    "    print(\"\\n\")\n",
    "    print(\"Number of Steps: \"+str(len(a)))\n",
    "    return\n",
    "    \n",
    "  possibleOptionStates = possibleOptions(problem)\n",
    "  possibleMatrices = getAllOptionStates(deepcopy(problem), possibleOptionStates)\n",
    "  minimalMatrix = matrixOfMinimalHeuristic(possibleMatrices)\n",
    "  steps = deepcopy(stepsToCompletion)\n",
    "  steps.append(minimalMatrix[0])\n",
    "  stepsToReachFinalState(minimalMatrix[1], deepcopy(steps))"
   ],
   "outputs": [],
   "metadata": {}
  },
  {
   "cell_type": "markdown",
   "source": [
    "Run the function stepsToReachFinalState"
   ],
   "metadata": {}
  },
  {
   "cell_type": "code",
   "execution_count": 15,
   "source": [
    "stepsToReachFinalState(problem, [])"
   ],
   "outputs": [
    {
     "output_type": "stream",
     "name": "stdout",
     "text": [
      "Steps to Completion:\n",
      "DOWN RIGHT DOWN \n",
      "\n",
      "Number of Steps: 3\n"
     ]
    }
   ],
   "metadata": {}
  }
 ],
 "metadata": {
  "kernelspec": {
   "display_name": "Python 3",
   "language": "python",
   "name": "python3"
  },
  "language_info": {
   "codemirror_mode": {
    "name": "ipython",
    "version": 3
   },
   "file_extension": ".py",
   "mimetype": "text/x-python",
   "name": "python",
   "nbconvert_exporter": "python",
   "pygments_lexer": "ipython3",
   "version": "3.8.10"
  }
 },
 "nbformat": 4,
 "nbformat_minor": 5
}