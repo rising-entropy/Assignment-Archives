{
 "cells": [
  {
   "cell_type": "markdown",
   "id": "f6c4e457-6495-46cd-9863-0cc9b02fb6ce",
   "metadata": {},
   "source": [
    "# AI/ML Lab\n",
    "## Assignment 3\n",
    "\n",
    "## 2019BTECS00058 Devang K\n",
    "\n",
    "## Batch: T7\n",
    "\n",
    "### Apply the Minimax approach to find optimal move in a Tic-Tac-Toe game\n",
    "\n"
   ]
  },
  {
   "cell_type": "markdown",
   "id": "d7b8a810-5a07-46fd-935e-d16872d4f6ce",
   "metadata": {},
   "source": [
    "##### We are playing against our opponent and trying to determine the next best move. We are the 'x'. Given the current state of the game, we have to determine what move should 'x' make in order to maximise their chance to win. Also, what outcome should the move have."
   ]
  },
  {
   "cell_type": "markdown",
   "id": "ca3c8e0b-3a62-483c-bf1a-3fdb86bc4475",
   "metadata": {},
   "source": [
    "We determine that 'x' is us and 'o' is the opponent."
   ]
  },
  {
   "cell_type": "code",
   "execution_count": 2,
   "id": "21aafadc-8439-490e-9b3d-3b3b8af7b600",
   "metadata": {},
   "outputs": [],
   "source": [
    "player, opponent = 'x', 'o'"
   ]
  },
  {
   "cell_type": "markdown",
   "id": "a493b2ad-c98b-4a9b-b12d-1992e940e866",
   "metadata": {},
   "source": [
    "Get the current state of the board."
   ]
  },
  {
   "cell_type": "code",
   "execution_count": 4,
   "id": "0589b3ec-2241-4cef-93f1-3c5298552179",
   "metadata": {},
   "outputs": [],
   "source": [
    "board = [\n",
    "    [ 'x', '_', 'o' ],\n",
    "    [ 'o', 'x', 'x' ],\n",
    "    [ '_', '_', 'o' ]\n",
    "]"
   ]
  },
  {
   "cell_type": "markdown",
   "id": "e5eb66be-e7ad-4fd0-b1a3-ed321d08be14",
   "metadata": {},
   "source": [
    "A function that checks if there are any more moves left on the board."
   ]
  },
  {
   "cell_type": "code",
   "execution_count": 3,
   "id": "b2ccbb77-69a8-4c75-a751-c25b9213799b",
   "metadata": {},
   "outputs": [],
   "source": [
    "def areMovesLeft(board) :\n",
    "    for i in range(3) :\n",
    "        for j in range(3) :\n",
    "            if (board[i][j] == '_') :\n",
    "                return True\n",
    "    return False"
   ]
  },
  {
   "cell_type": "markdown",
   "id": "8980d67d-0fde-4d9d-bda9-ffec0121c4f3",
   "metadata": {},
   "source": [
    "A function to get the current status of the game while looking at the board. Checking the diagonals, rows and columns to check who won. It returns:\n",
    "- 1: x wins\n",
    "- -1: o wins\n",
    "- 0: no one has won"
   ]
  },
  {
   "cell_type": "code",
   "execution_count": 7,
   "id": "a7b79a37-71c5-4010-871d-691b402111a2",
   "metadata": {
    "tags": []
   },
   "outputs": [],
   "source": [
    "def checkGameStatus(b) :\n",
    "    \n",
    "    # rows\n",
    "    for row in range(3):\n",
    "        if (b[row][0] == b[row][1] and b[row][1] == b[row][2]):\n",
    "            if (b[row][0] == player):\n",
    "                return 1\n",
    "            elif (b[row][0] == opponent):\n",
    "                return -1\n",
    "    \n",
    "    # cols\n",
    "    for col in range(3) :\n",
    "        if (b[0][col] == b[1][col] and b[1][col] == b[2][col]) :\n",
    "            if (b[0][col] == player) :\n",
    "                return 1\n",
    "            elif (b[0][col] == opponent) :\n",
    "                return -1\n",
    "    \n",
    "    # diagonals\n",
    "    if (b[0][0] == b[1][1] and b[1][1] == b[2][2]) :\n",
    "        if (b[0][0] == player) :\n",
    "            return 1\n",
    "        elif (b[0][0] == opponent) :\n",
    "            return -1\n",
    "    \n",
    "    #nobody won\n",
    "    return 0"
   ]
  },
  {
   "cell_type": "markdown",
   "id": "ac880349-414e-41d9-86cb-599b5313f78f",
   "metadata": {},
   "source": [
    "A recursive function that computes the value of board by seeing the number of ways the game can possibly go."
   ]
  },
  {
   "cell_type": "code",
   "execution_count": 9,
   "id": "39a02715-346c-4b4d-bc7e-e431ee682eb2",
   "metadata": {},
   "outputs": [],
   "source": [
    "def minimax(board, depth, isMax) :\n",
    "    score = checkGameStatus(board)\n",
    "\n",
    "    # If Maximizer has won\n",
    "    if (score == 1):\n",
    "        return score\n",
    "\n",
    "    # If Minimizer has won\n",
    "    if (score == -1):\n",
    "        return score\n",
    "\n",
    "    # Tie\n",
    "    if (areMovesLeft(board) == False) :\n",
    "        return 0\n",
    "\n",
    "    # Maximizer's move\n",
    "    if (isMax):\n",
    "        best = -1000\n",
    "\n",
    "        # Traverse all cells\n",
    "        for i in range(3):\n",
    "            for j in range(3):\n",
    "                # if cell is empty\n",
    "                if (board[i][j]=='_'):\n",
    "                    # Make the move\n",
    "                    board[i][j] = player\n",
    "                    \n",
    "                    # Call minimax recursively and choose the maximum value\n",
    "                    best = max( best, minimax(board, depth + 1, not isMax))\n",
    "                    \n",
    "                    # Undo move\n",
    "                    board[i][j] = '_'\n",
    "        return best\n",
    "\n",
    "    # Minimizer's move\n",
    "    else :\n",
    "        best = 1000\n",
    "\n",
    "        # Traverse all cells\n",
    "        for i in range(3):\n",
    "            for j in range(3) :\n",
    "                # Check if empty cell\n",
    "                if (board[i][j] == '_'):\n",
    "                    # Make the move\n",
    "                    board[i][j] = opponent\n",
    "\n",
    "                    # Call minimax recursively and choose the minimum value\n",
    "                    best = min(best, minimax(board, depth + 1, not isMax))\n",
    "\n",
    "                    # Undo move\n",
    "                    board[i][j] = '_'\n",
    "        return best"
   ]
  },
  {
   "cell_type": "markdown",
   "id": "580117ff-0dbf-4497-abb4-e5a7d59ac630",
   "metadata": {},
   "source": [
    "Function returning next best move possible for the player and the value of that move."
   ]
  },
  {
   "cell_type": "code",
   "execution_count": 10,
   "id": "196af7ce-7ee4-4099-acfb-26aa2761e354",
   "metadata": {},
   "outputs": [],
   "source": [
    "def nextBestMoveAndValue(board) :\n",
    "    bestVal = -1000\n",
    "    bestMove = (-1, -1)\n",
    "\n",
    "    # Traverse and apply minmax to all empty cells\n",
    "    for i in range(3) :\t\n",
    "        for j in range(3) :\n",
    "            # Check if cell is empty\n",
    "            if (board[i][j] == '_') :\n",
    "                # Make the move\n",
    "                board[i][j] = player\n",
    "\n",
    "                # compute evaluation for the move.\n",
    "                moveVal = minimax(board, 0, False)\n",
    "\n",
    "                # Undo move\n",
    "                board[i][j] = '_'\n",
    "\n",
    "                # If the value of the current move is more than the best value, then update best\n",
    "                if (moveVal > bestVal) :\t\t\t\n",
    "                    bestMove = (i, j)\n",
    "                    bestVal = moveVal\n",
    "\n",
    "    return bestMove, bestVal"
   ]
  },
  {
   "cell_type": "markdown",
   "id": "edf3f0b6-189b-4aaf-8642-70d5efa7c0ce",
   "metadata": {},
   "source": [
    "Call the function for evaluation."
   ]
  },
  {
   "cell_type": "code",
   "execution_count": 11,
   "id": "d3cfd88b-6bcf-4bd3-843b-e51d364c2bf5",
   "metadata": {},
   "outputs": [],
   "source": [
    "bestMove, bestVal = nextBestMoveAndValue(board)"
   ]
  },
  {
   "cell_type": "markdown",
   "id": "03dfc239-2995-4afb-9079-f51a23ac9cc7",
   "metadata": {},
   "source": [
    "Print the answer:"
   ]
  },
  {
   "cell_type": "code",
   "execution_count": 13,
   "id": "3a63545a-dccb-4f94-be77-e621ce682f4a",
   "metadata": {},
   "outputs": [
    {
     "name": "stdout",
     "output_type": "stream",
     "text": [
      "Value of the next move: 0\n",
      "The move favours nobody.\n",
      "\n",
      "The Optimal Move is :\n",
      "ROW: 0  COL: 1\n"
     ]
    }
   ],
   "source": [
    "print(\"Value of the next move: \"+str(bestVal))\n",
    "if bestVal == 1:\n",
    "    print(\"The move favours us.\")\n",
    "elif bestVal == -1:\n",
    "    print(\"The move favours the opponent.\")\n",
    "else:\n",
    "    print(\"The move favours nobody.\")\n",
    "print()\n",
    "print(\"The Optimal Move is :\")\n",
    "print(\"ROW:\", bestMove[0], \" COL:\", bestMove[1])"
   ]
  }
 ],
 "metadata": {
  "kernelspec": {
   "display_name": "Python 3 (ipykernel)",
   "language": "python",
   "name": "python3"
  },
  "language_info": {
   "codemirror_mode": {
    "name": "ipython",
    "version": 3
   },
   "file_extension": ".py",
   "mimetype": "text/x-python",
   "name": "python",
   "nbconvert_exporter": "python",
   "pygments_lexer": "ipython3",
   "version": "3.9.7"
  }
 },
 "nbformat": 4,
 "nbformat_minor": 5
}
