{
 "cells": [
  {
   "cell_type": "markdown",
   "id": "presidential-darwin",
   "metadata": {},
   "source": [
    "# AI/ML Lab\n",
    "\n",
    "## Assignment 1\n",
    "\n",
    "## 2019BTECS00058 Devang K\n",
    "\n",
    "## Batch: T7"
   ]
  },
  {
   "cell_type": "markdown",
   "id": "adjusted-glasgow",
   "metadata": {},
   "source": [
    "### Solve the 15 puzzle game problem using heuristic search algorithm "
   ]
  },
  {
   "cell_type": "markdown",
   "id": "purple-determination",
   "metadata": {},
   "source": [
    "#### Goal State:\n",
    "\n",
    "<table>\n",
    "<tr>\n",
    "    <td>1</td><td>2</td><td>3</td><td>4</td>\n",
    "</tr>\n",
    "<tr>\n",
    "    <td>5</td><td>6</td><td>7</td><td>8</td>\n",
    "</tr>\n",
    "<tr>\n",
    "    <td>9</td><td>10</td><td>11</td><td>12</td>\n",
    "</tr>\n",
    "<tr>\n",
    "    <td>13</td><td>14</td><td>15</td><td>*</td>\n",
    "</tr>\n",
    "</table>\n",
    "\n",
    "\n",
    "#### Initial State:\n",
    "\n",
    "<table>\n",
    "<tr>\n",
    "    <td>1</td><td>2</td><td>3</td><td>4</td>\n",
    "</tr>\n",
    "<tr>\n",
    "    <td>5</td><td>6</td><td>*</td><td>8</td>\n",
    "</tr>\n",
    "<tr>\n",
    "    <td>9</td><td>10</td><td>7</td><td>11</td>\n",
    "</tr>\n",
    "<tr>\n",
    "    <td>13</td><td>14</td><td>15</td><td>12</td>\n",
    "</tr>\n",
    "</table>"
   ]
  },
  {
   "cell_type": "markdown",
   "id": "decreased-match",
   "metadata": {},
   "source": [
    "### Find the goal state from the above initial state"
   ]
  },
  {
   "cell_type": "markdown",
   "id": "temporal-annex",
   "metadata": {},
   "source": [
    "Importing the deepcopy function for passing by value."
   ]
  },
  {
   "cell_type": "code",
   "execution_count": 1,
   "id": "continent-finland",
   "metadata": {},
   "outputs": [],
   "source": [
    "from copy import deepcopy"
   ]
  },
  {
   "cell_type": "markdown",
   "id": "improving-check",
   "metadata": {},
   "source": [
    "Initialize the Final State"
   ]
  },
  {
   "cell_type": "code",
   "execution_count": 2,
   "id": "affiliated-discrimination",
   "metadata": {},
   "outputs": [],
   "source": [
    "finalState = [\n",
    "  [1, 2, 3, 4],\n",
    "  [5, 6, 7, 8],\n",
    "  [9, 10, 11, 12],\n",
    "  [13, 14, 15, None]\n",
    "]"
   ]
  },
  {
   "cell_type": "markdown",
   "id": "empirical-fiction",
   "metadata": {},
   "source": [
    "Function to calculate the h - heuristic value of the matrix, how far off from the goal state are they?"
   ]
  },
  {
   "cell_type": "code",
   "execution_count": 3,
   "id": "superb-clarity",
   "metadata": {},
   "outputs": [],
   "source": [
    "def calculateHeuristic(matrix):\n",
    "  h = 0\n",
    "  for i in range(len(finalState)):\n",
    "    for j in range(len(finalState[i])):\n",
    "      if matrix[i][j] != finalState[i][j]:\n",
    "        h += 1 \n",
    "  return h"
   ]
  },
  {
   "cell_type": "markdown",
   "id": "middle-range",
   "metadata": {},
   "source": [
    "Function that gets all possible options (right, left, up or down) of matrices possible."
   ]
  },
  {
   "cell_type": "code",
   "execution_count": 4,
   "id": "liquid-anaheim",
   "metadata": {},
   "outputs": [],
   "source": [
    "def possibleOptions(matrix):\n",
    "  lst = []\n",
    "  for i in range(len(finalState)):\n",
    "    for j in range(len(finalState[i])):\n",
    "      if matrix[i][j] == None:\n",
    "        # Up\n",
    "        if i-1 > -1:\n",
    "          lst.append(\"UP\")\n",
    "          \n",
    "        # Down\n",
    "        if i+1 < len(finalState):\n",
    "          lst.append(\"DOWN\") \n",
    "        \n",
    "        # Left\n",
    "        if j-1 > -1:\n",
    "          lst.append(\"LEFT\")\n",
    "        \n",
    "        # Right\n",
    "        if j+1 < len(finalState[0]):\n",
    "          lst.append(\"RIGHT\")\n",
    "  return lst"
   ]
  },
  {
   "cell_type": "markdown",
   "id": "spoken-quebec",
   "metadata": {},
   "source": [
    "Functions that return the Up, Down, Left, Right iterations of the matrix with respect to the the blank space."
   ]
  },
  {
   "cell_type": "code",
   "execution_count": 5,
   "id": "binding-analysis",
   "metadata": {},
   "outputs": [],
   "source": [
    "def matrixUP(matrix):\n",
    "  bufferMatrix = matrix.copy()\n",
    "  for i in range(len(finalState)):\n",
    "    for j in range(len(finalState[i])):\n",
    "      if bufferMatrix[i][j] == None:\n",
    "        temp = bufferMatrix[i-1][j]\n",
    "        bufferMatrix[i-1][j] = None\n",
    "        bufferMatrix[i][j] = temp\n",
    "        return bufferMatrix"
   ]
  },
  {
   "cell_type": "code",
   "execution_count": 6,
   "id": "transparent-picture",
   "metadata": {},
   "outputs": [],
   "source": [
    "def matrixDOWN(matrix):\n",
    "  bufferMatrix = matrix.copy()\n",
    "  for i in range(len(finalState)):\n",
    "    for j in range(len(finalState[i])):\n",
    "      if bufferMatrix[i][j] == None:\n",
    "        temp = bufferMatrix[i+1][j]\n",
    "        bufferMatrix[i+1][j] = None\n",
    "        bufferMatrix[i][j] = temp\n",
    "        return bufferMatrix"
   ]
  },
  {
   "cell_type": "code",
   "execution_count": 7,
   "id": "proved-protein",
   "metadata": {},
   "outputs": [],
   "source": [
    "def matrixLEFT(matrix):\n",
    "  bufferMatrix = matrix.copy()\n",
    "  for i in range(len(finalState)):\n",
    "    for j in range(len(finalState[i])):\n",
    "      if bufferMatrix[i][j] == None:\n",
    "        temp = bufferMatrix[i][j-1]\n",
    "        bufferMatrix[i][j-1] = None\n",
    "        bufferMatrix[i][j] = temp\n",
    "        return bufferMatrix"
   ]
  },
  {
   "cell_type": "code",
   "execution_count": 8,
   "id": "champion-modification",
   "metadata": {},
   "outputs": [],
   "source": [
    "def matrixRIGHT(matrix):\n",
    "  bufferMatrix = matrix\n",
    "  for i in range(len(finalState)):\n",
    "    for j in range(len(finalState[i])):\n",
    "      if bufferMatrix[i][j] == None:\n",
    "        temp = bufferMatrix[i][j+1]\n",
    "        bufferMatrix[i][j+1] = None\n",
    "        bufferMatrix[i][j] = temp\n",
    "        return bufferMatrix"
   ]
  },
  {
   "cell_type": "markdown",
   "id": "planned-royalty",
   "metadata": {},
   "source": [
    "Function to get a list of all valid matrix moves. The direction of swap and the matrix."
   ]
  },
  {
   "cell_type": "code",
   "execution_count": 9,
   "id": "narrow-isolation",
   "metadata": {},
   "outputs": [],
   "source": [
    "def getAllOptionStates(matrix, typeList):\n",
    "  optionMatrices = []\n",
    "  \n",
    "  # UP\n",
    "  if \"UP\" in typeList:\n",
    "    optionMatrices.append([\"UP\", matrixUP(deepcopy(matrix))])\n",
    "  \n",
    "  #DOWN\n",
    "  if \"DOWN\" in typeList:\n",
    "    optionMatrices.append([\"DOWN\", matrixDOWN(deepcopy(matrix))])\n",
    "  \n",
    "  #LEFT\n",
    "  if \"LEFT\" in typeList:\n",
    "    optionMatrices.append([\"LEFT\", matrixLEFT(deepcopy(matrix))])\n",
    "  \n",
    "  #RIGHT\n",
    "  if \"RIGHT\" in typeList:\n",
    "    optionMatrices.append([\"RIGHT\", matrixRIGHT(deepcopy(matrix))])\n",
    "\n",
    "  return optionMatrices"
   ]
  },
  {
   "cell_type": "markdown",
   "id": "sudden-kentucky",
   "metadata": {},
   "source": [
    "Function to get the matrix of minimum heuristic"
   ]
  },
  {
   "cell_type": "code",
   "execution_count": 10,
   "id": "brave-restriction",
   "metadata": {},
   "outputs": [],
   "source": [
    "def matrixOfMinimalHeuristic(listOfMatrices):\n",
    "  theHeuristics = []\n",
    "  for mat in listOfMatrices:\n",
    "    theHeuristics.append(calculateHeuristic(mat[1]))\n",
    "  minimumHeu = min(theHeuristics)\n",
    "  for i in range(len(theHeuristics)):\n",
    "    if theHeuristics[i] == minimumHeu:\n",
    "      return listOfMatrices[i]"
   ]
  },
  {
   "cell_type": "markdown",
   "id": "british-channels",
   "metadata": {},
   "source": [
    "The initial state."
   ]
  },
  {
   "cell_type": "code",
   "execution_count": 13,
   "id": "consolidated-provider",
   "metadata": {},
   "outputs": [],
   "source": [
    "problem = [\n",
    "  [1, 2, 3, 4],\n",
    "  [5, 6, None, 8],\n",
    "  [9, 10, 7, 11],\n",
    "  [13, 14, 15, 12]\n",
    "]"
   ]
  },
  {
   "cell_type": "markdown",
   "id": "cognitive-alaska",
   "metadata": {},
   "source": [
    "Recursive function to get the steps to solve the 15 puzzle from initial state to goal state."
   ]
  },
  {
   "cell_type": "code",
   "execution_count": 14,
   "id": "pacific-father",
   "metadata": {},
   "outputs": [],
   "source": [
    "def stepsToReachFinalState(problem, stepsToCompletion):\n",
    "  \n",
    "  # Base Case\n",
    "  if calculateHeuristic(problem) == 0:\n",
    "    a = deepcopy(stepsToCompletion)\n",
    "    print(\"Steps to Completion:\")\n",
    "    for i in a:\n",
    "      print(i, end=' ')\n",
    "    print(\"\\n\")\n",
    "    print(\"Number of Steps: \"+str(len(a)))\n",
    "    return\n",
    "    \n",
    "  possibleOptionStates = possibleOptions(problem)\n",
    "  possibleMatrices = getAllOptionStates(deepcopy(problem), possibleOptionStates)\n",
    "  minimalMatrix = matrixOfMinimalHeuristic(possibleMatrices)\n",
    "  steps = deepcopy(stepsToCompletion)\n",
    "  steps.append(minimalMatrix[0])\n",
    "  stepsToReachFinalState(minimalMatrix[1], deepcopy(steps))"
   ]
  },
  {
   "cell_type": "markdown",
   "id": "applicable-operator",
   "metadata": {},
   "source": [
    "Run the function stepsToReachFinalState"
   ]
  },
  {
   "cell_type": "code",
   "execution_count": 15,
   "id": "functional-retailer",
   "metadata": {},
   "outputs": [
    {
     "name": "stdout",
     "output_type": "stream",
     "text": [
      "Steps to Completion:\n",
      "DOWN RIGHT DOWN \n",
      "\n",
      "Number of Steps: 3\n"
     ]
    }
   ],
   "source": [
    "stepsToReachFinalState(problem, [])"
   ]
  }
 ],
 "metadata": {
  "kernelspec": {
   "display_name": "Python 3",
   "language": "python",
   "name": "python3"
  },
  "language_info": {
   "codemirror_mode": {
    "name": "ipython",
    "version": 3
   },
   "file_extension": ".py",
   "mimetype": "text/x-python",
   "name": "python",
   "nbconvert_exporter": "python",
   "pygments_lexer": "ipython3",
   "version": "3.8.10"
  }
 },
 "nbformat": 4,
 "nbformat_minor": 5
}
